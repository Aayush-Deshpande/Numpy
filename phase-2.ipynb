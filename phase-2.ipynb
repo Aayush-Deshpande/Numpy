{
 "cells": [
  {
   "cell_type": "markdown",
   "id": "1bc92207",
   "metadata": {},
   "source": [
    "## Numpy Array Operations"
   ]
  },
  {
   "cell_type": "markdown",
   "id": "be70a360",
   "metadata": {},
   "source": [
    "### Slicing"
   ]
  },
  {
   "cell_type": "code",
   "execution_count": 5,
   "id": "6c104230",
   "metadata": {},
   "outputs": [],
   "source": [
    "import numpy as np\n"
   ]
  },
  {
   "cell_type": "code",
   "execution_count": 6,
   "id": "32b0d84d",
   "metadata": {},
   "outputs": [
    {
     "name": "stdout",
     "output_type": "stream",
     "text": [
      "Basic Slicing:  [3 4 5 6 7]\n",
      "With Step:  [2 4 6 8]\n",
      "Negative Indexing:  9\n",
      "Specefic Element:  6\n",
      "Specefic Row:  [4 5 6]\n",
      "Specefic Element:  [3 6]\n"
     ]
    }
   ],
   "source": [
    "arr = np.array([1,2,3,4,5,6,7,8,9,0])\n",
    "print(\"Basic Slicing: \", arr[2:7])\n",
    "print(\"With Step: \",arr[1:8:2])\n",
    "print(\"Negative Indexing: \",arr[-2])\n",
    "\n",
    "array_2d = np.array([[1, 2, 3],\n",
    "                     [4, 5, 6]])\n",
    "print(\"Specefic Element: \", array_2d[1, 2])\n",
    "print(\"Specefic Row: \", array_2d[1, :])\n",
    "print(\"Specefic Element: \", array_2d[:, 2])"
   ]
  },
  {
   "cell_type": "markdown",
   "id": "14fd0b65",
   "metadata": {},
   "source": [
    "### Sorting Arrays"
   ]
  },
  {
   "cell_type": "code",
   "execution_count": 7,
   "id": "8963c2ce",
   "metadata": {},
   "outputs": [
    {
     "name": "stdout",
     "output_type": "stream",
     "text": [
      "Sorted Array:  [1 2 3 4 5 6 7 8 8 9]\n",
      "Sorted 2D array by column: \n",
      " [[1 2 2]\n",
      " [1 4 4]]\n",
      "Sorted 2D array by row: \n",
      " [[1 2 4]\n",
      " [1 2 4]]\n"
     ]
    }
   ],
   "source": [
    "unsorted_array = np.array([1,4, 3, 6, 5, 2, 8, 9, 7, 8])\n",
    "unsorted_2d_array = np.array([[1, 2, 4],\n",
    "                              [1, 4, 2]])\n",
    "\n",
    "print(\"Sorted Array: \", np.sort(unsorted_array))\n",
    "print(\"Sorted 2D array by column: \\n\", np.sort(unsorted_2d_array, axis=0))\n",
    "print(\"Sorted 2D array by row: \\n\", np.sort(unsorted_2d_array, axis=1))\n",
    "\n"
   ]
  },
  {
   "cell_type": "markdown",
   "id": "229539a2",
   "metadata": {},
   "source": [
    "### Filters and mask"
   ]
  },
  {
   "cell_type": "code",
   "execution_count": 8,
   "id": "884d19bf",
   "metadata": {},
   "outputs": [
    {
     "name": "stdout",
     "output_type": "stream",
     "text": [
      "Even Numbers:  [ 2  4  6  8 10]\n",
      "Numbers greater than 5:  [ 6  7  8  9 10]\n"
     ]
    }
   ],
   "source": [
    "numbers = np.array([1, 2, 3, 4, 5, 6, 7, 8, 9, 10])\n",
    "conditioned = numbers[numbers % 2 == 0]\n",
    "print(\"Even Numbers: \", conditioned)\n",
    "\n",
    "mask = numbers > 5\n",
    "print(\"Numbers greater than 5: \", numbers[mask])"
   ]
  },
  {
   "cell_type": "markdown",
   "id": "be894f49",
   "metadata": {},
   "source": [
    "### Fancy Indexing vs np.where()"
   ]
  },
  {
   "cell_type": "code",
   "execution_count": 9,
   "id": "102f46f5",
   "metadata": {},
   "outputs": [
    {
     "name": "stdout",
     "output_type": "stream",
     "text": [
      "[1 3 5]\n",
      "(array([5, 6, 7, 8, 9]),)\n",
      "Here  [ 6  7  8  9 10]\n"
     ]
    }
   ],
   "source": [
    "indices = [0 ,2, 4]\n",
    "print(numbers[indices])\n",
    "\n",
    "result = np.where(numbers > 5)\n",
    "print(result)\n",
    "print(\"Here \", numbers[result])"
   ]
  },
  {
   "cell_type": "code",
   "execution_count": 10,
   "id": "50b5169f",
   "metadata": {},
   "outputs": [
    {
     "name": "stdout",
     "output_type": "stream",
     "text": [
      "[ 1  2  3  4  5 12 14 16 18 20] [ 2  4  6  8 10 12 14 16 18 20]\n"
     ]
    }
   ],
   "source": [
    "condition_arrays = np.where( numbers > 5, numbers*2, numbers)\n",
    "condition_array = np.where( numbers < 50, numbers*2, numbers)\n",
    "#                  if-else    condition      if       else\n",
    "print(condition_arrays, condition_array)"
   ]
  },
  {
   "cell_type": "code",
   "execution_count": 11,
   "id": "e73d11f9",
   "metadata": {},
   "outputs": [
    {
     "name": "stdout",
     "output_type": "stream",
     "text": [
      "Combined:  [1 2 3 4 5 6 7 8]\n",
      "Combined with row:\n",
      " [[1 2 3 4]\n",
      " [1 8 3 5]]\n",
      "Combined with col:\n",
      " [1 2 3 4 4 3]\n"
     ]
    }
   ],
   "source": [
    "one = np.array([1, 2, 3, 4])\n",
    "two = np.array([5, 6, 7, 8])\n",
    "combined = np.concatenate((one, two))\n",
    "print(\"Combined: \", combined)\n",
    "new_row = np.array([1, 8, 3, 5])\n",
    "new_col = np.array([4, 3])\n",
    "\n",
    "print(\"Combined with row:\\n\", np.vstack((one, new_row)))\n",
    "print(\"Combined with col:\\n\", np.hstack((one, new_col)))"
   ]
  },
  {
   "cell_type": "code",
   "execution_count": 16,
   "id": "c9f4e63d",
   "metadata": {},
   "outputs": [
    {
     "name": "stdout",
     "output_type": "stream",
     "text": [
      "[[2 3 4]\n",
      " [2 3 4]]\n"
     ]
    }
   ],
   "source": [
    "aarr1 = np.array([[1, 2, 3, 4, 5],\n",
    "                  [1, 2, 3, 4, 5],\n",
    "                  [1, 2, 3, 4, 5]])\n",
    "print(aarr1[1:,1:4])"
   ]
  },
  {
   "cell_type": "code",
   "execution_count": 24,
   "id": "b9177d06",
   "metadata": {},
   "outputs": [
    {
     "name": "stdout",
     "output_type": "stream",
     "text": [
      "[ 1  3  5  7  9 11 13 15 17 19]\n",
      "[  1   3   5 100 100 100 100 100 100 100]\n",
      "[  1   3   5 100 100 100 100 100 100 100]\n"
     ]
    }
   ],
   "source": [
    "aray = np.arange(1,20,2)\n",
    "arey = aray\n",
    "print(arey)\n",
    "arey[3:] = 100\n",
    "print(arey)\n",
    "print(aray)"
   ]
  },
  {
   "cell_type": "code",
   "execution_count": 23,
   "id": "d7f5337c",
   "metadata": {},
   "outputs": [
    {
     "name": "stdout",
     "output_type": "stream",
     "text": [
      "[ 1  3  5  7  9 11 13 15 17 19]\n",
      "[  1   3   5 100 100 100 100 100 100 100]\n",
      "[ 1  3  5  7  9 11 13 15 17 19]\n"
     ]
    }
   ],
   "source": [
    "aray = np.arange(1,20,2)\n",
    "arey = aray.copy()\n",
    "print(arey)\n",
    "arey[3:] = 100\n",
    "print(arey)\n",
    "print(aray)"
   ]
  },
  {
   "cell_type": "code",
   "execution_count": 29,
   "id": "cd3a3313",
   "metadata": {},
   "outputs": [
    {
     "name": "stdout",
     "output_type": "stream",
     "text": [
      "[[0 1]\n",
      " [2 3]\n",
      " [4 5]\n",
      " [6 7]\n",
      " [8 9]]\n"
     ]
    }
   ],
   "source": [
    "aruy = np.arange(0,10).reshape(5,2)\n",
    "print(aruy)"
   ]
  },
  {
   "cell_type": "code",
   "execution_count": null,
   "id": "f41ac212",
   "metadata": {},
   "outputs": [],
   "source": []
  }
 ],
 "metadata": {
  "kernelspec": {
   "display_name": "Python 3",
   "language": "python",
   "name": "python3"
  },
  "language_info": {
   "codemirror_mode": {
    "name": "ipython",
    "version": 3
   },
   "file_extension": ".py",
   "mimetype": "text/x-python",
   "name": "python",
   "nbconvert_exporter": "python",
   "pygments_lexer": "ipython3",
   "version": "3.13.3"
  }
 },
 "nbformat": 4,
 "nbformat_minor": 5
}
