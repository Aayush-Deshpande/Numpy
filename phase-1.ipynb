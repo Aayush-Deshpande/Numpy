{
 "cells": [
  {
   "cell_type": "markdown",
   "id": "714bcdda",
   "metadata": {},
   "source": [
    "## Numy array and basics"
   ]
  },
  {
   "cell_type": "code",
   "execution_count": 1,
   "id": "894324ac",
   "metadata": {},
   "outputs": [],
   "source": [
    "import numpy as np\n",
    "import time"
   ]
  },
  {
   "cell_type": "code",
   "execution_count": 2,
   "id": "b400ddf2",
   "metadata": {},
   "outputs": [
    {
     "name": "stdout",
     "output_type": "stream",
     "text": [
      "[1 2 3] [[1 2 3]\n",
      " [4 5 6]]\n"
     ]
    }
   ],
   "source": [
    "array_1d = np.array([1,2,3])\n",
    "array_2d = np.array([[1,2,3],[4,5,6]])\n",
    "print(array_1d, array_2d)"
   ]
  },
  {
   "cell_type": "code",
   "execution_count": 9,
   "id": "2549c7b0",
   "metadata": {},
   "outputs": [
    {
     "name": "stdout",
     "output_type": "stream",
     "text": [
      "\n",
      "List operation time:  0.14465594291687012\n",
      "\n",
      "Array operation time:  0.0056722164154052734\n"
     ]
    }
   ],
   "source": [
    "start = time.time()\n",
    "mylist = [i*2 for i in range (1000000)]\n",
    "print(\"\\nList operation time: \", time.time()-start)\n",
    "\n",
    "new = time.time()\n",
    "myarray = np.arange(1000000) * 2\n",
    "print(\"\\nArray operation time: \", time.time()-new)"
   ]
  },
  {
   "cell_type": "markdown",
   "id": "4d0b3132",
   "metadata": {},
   "source": [
    "## Creating Arrays from Scratch"
   ]
  },
  {
   "cell_type": "code",
   "execution_count": 12,
   "id": "bead2323",
   "metadata": {},
   "outputs": [
    {
     "name": "stdout",
     "output_type": "stream",
     "text": [
      "Zeros Array is:\n",
      " [[0. 0. 0.]\n",
      " [0. 0. 0.]\n",
      " [0. 0. 0.]]\n",
      "Ones Array is:\n",
      " [[1. 1. 1.]\n",
      " [1. 1. 1.]\n",
      " [1. 1. 1.]]\n",
      "Fulls array is:\n",
      " [[7 7 7]\n",
      " [7 7 7]\n",
      " [7 7 7]]\n",
      "Random array is:\n",
      " [[0.27871148 0.89279148 0.75069927]\n",
      " [0.6193095  0.70229753 0.16519404]]\n",
      "Sequenced array is:\n",
      " [1 3 5 7 9]\n"
     ]
    }
   ],
   "source": [
    "zeros = np.zeros((3, 3))\n",
    "print(\"Zeros Array is:\\n\", zeros)\n",
    "\n",
    "ones = np.ones((3, 3))\n",
    "print(\"Ones Array is:\\n\", ones)\n",
    "\n",
    "fulls = np.full((3, 3), 7)\n",
    "print(\"Fulls array is:\\n\", fulls)\n",
    "\n",
    "randomness = np.random.random((2,3))\n",
    "print(\"Random array is:\\n\", randomness)\n",
    "\n",
    "sequenced = np.arange(1, 10, 2)\n",
    "print(\"Sequenced array is:\\n\", sequenced)\n"
   ]
  },
  {
   "cell_type": "markdown",
   "id": "dcf99ab0",
   "metadata": {},
   "source": [
    "## Vector, Matrix and Tensor"
   ]
  },
  {
   "cell_type": "code",
   "execution_count": 8,
   "id": "ebb2c99c",
   "metadata": {},
   "outputs": [
    {
     "name": "stdout",
     "output_type": "stream",
     "text": [
      "[1 2 3]\n",
      "[[1 2 3]\n",
      " [4 5 6]]\n",
      "[[[1 2]\n",
      "  [4 5]]\n",
      "\n",
      " [[7 8]\n",
      "  [1 2]]]\n"
     ]
    }
   ],
   "source": [
    "vector = np.array([1,2,3])\n",
    "print(vector)\n",
    "\n",
    "matrix = np.array([[1,2,3],[4,5,6]])\n",
    "print(matrix)\n",
    "\n",
    "tensor = np.array([[[1, 2], [4, 5]],\n",
    "                   [[7, 8], [1, 2]]])\n",
    "print(tensor)"
   ]
  },
  {
   "cell_type": "markdown",
   "id": "2fa49d57",
   "metadata": {},
   "source": [
    "### Array and it's Properties\n"
   ]
  },
  {
   "cell_type": "code",
   "execution_count": 9,
   "id": "b450ba28",
   "metadata": {},
   "outputs": [
    {
     "name": "stdout",
     "output_type": "stream",
     "text": [
      "(2, 3)\n",
      "6\n",
      "2\n",
      "int64\n"
     ]
    }
   ],
   "source": [
    "arr = np.array([[1, 2, 3],\n",
    "                [4, 5, 6]])\n",
    "print(arr.shape)\n",
    "print(arr.size)\n",
    "print(arr.ndim)\n",
    "print(arr.dtype)"
   ]
  },
  {
   "cell_type": "markdown",
   "id": "94ba20a8",
   "metadata": {},
   "source": [
    "### Array Reshaping"
   ]
  },
  {
   "cell_type": "code",
   "execution_count": 12,
   "id": "555b0dcc",
   "metadata": {},
   "outputs": [
    {
     "name": "stdout",
     "output_type": "stream",
     "text": [
      "Original: \n",
      " [ 0  1  2  3  4  5  6  7  8  9 10 11]\n",
      "Reshaped: \n",
      " [[ 0  1  2  3]\n",
      " [ 4  5  6  7]\n",
      " [ 8  9 10 11]]\n",
      "Flattened: \n",
      " [ 0  1  2  3  4  5  6  7  8  9 10 11]\n",
      "Transposed: \n",
      " [[ 0  4  8]\n",
      " [ 1  5  9]\n",
      " [ 2  6 10]\n",
      " [ 3  7 11]]\n",
      "Ravel: \n",
      " [ 0  1  2  3  4  5  6  7  8  9 10 11]\n"
     ]
    }
   ],
   "source": [
    "arr = np.arange(12)\n",
    "print(\"Original: \\n\", arr)\n",
    "\n",
    "reshaped = arr.reshape((3, 4))\n",
    "print(\"Reshaped: \\n\", reshaped)\n",
    "\n",
    "flattened = reshaped.flatten()\n",
    "print(\"Flattened: \\n\", flattened)\n",
    "\n",
    "Transposed = reshaped.T\n",
    "print(\"Transposed: \\n\", Transposed)\n",
    "\n",
    "# ravel = ( return view, instead of copy)\n",
    "raveled = flattened.ravel()\n",
    "print(\"Ravel: \\n\", raveled)"
   ]
  }
 ],
 "metadata": {
  "kernelspec": {
   "display_name": "Python 3",
   "language": "python",
   "name": "python3"
  },
  "language_info": {
   "codemirror_mode": {
    "name": "ipython",
    "version": 3
   },
   "file_extension": ".py",
   "mimetype": "text/x-python",
   "name": "python",
   "nbconvert_exporter": "python",
   "pygments_lexer": "ipython3",
   "version": "3.13.3"
  }
 },
 "nbformat": 4,
 "nbformat_minor": 5
}
